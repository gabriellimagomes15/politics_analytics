{
 "cells": [
  {
   "cell_type": "markdown",
   "metadata": {},
   "source": [
    "# Script para limpar os discursos da base:\n",
    "- remover stopwords\n",
    "- remover pontuação\n",
    "- remover caracteres especiais\n",
    "- remover palavras/termos muito comuns, por exemplo, \"Sr. Presidente\""
   ]
  },
  {
   "cell_type": "code",
   "execution_count": 1,
   "metadata": {},
   "outputs": [
    {
     "name": "stderr",
     "output_type": "stream",
     "text": [
      "[nltk_data] Downloading package stopwords to\n",
      "[nltk_data]     C:\\Users\\gabri\\AppData\\Roaming\\nltk_data...\n",
      "[nltk_data]   Package stopwords is already up-to-date!\n"
     ]
    }
   ],
   "source": [
    "import os\n",
    "import pandas as pd\n",
    "import re\n",
    "\n",
    "import nltk\n",
    "import string\n",
    "nltk.download('stopwords')\n",
    "from nltk.corpus import stopwords\n",
    "from unicodedata import normalize\n"
   ]
  },
  {
   "cell_type": "code",
   "execution_count": 2,
   "metadata": {},
   "outputs": [],
   "source": [
    "\n",
    "def remove_stop_words(data, list_stop_words = None):\n",
    "    \"\"\"\n",
    "    Função para remover stopwords em português\n",
    "    \"\"\"\n",
    "    print('  Remove Stop Words')\n",
    "\n",
    "    #list_stop_words = set(stopwords.words('portuguese'))\n",
    "    if list_stop_words != None:\n",
    "        output = []\n",
    "        for sentence in data:\n",
    "            temp_list = []\n",
    "            for word in sentence.split():\n",
    "                if word.lower() not in list_stop_words:\n",
    "                    temp_list.append(word)\n",
    "            output.append(' '.join(temp_list))\n",
    "\n",
    "        data = pd.Series(output)    \n",
    "    \n",
    "    return data\n",
    "\n",
    "def remove_punct(data):\n",
    "    \"\"\"\n",
    "    Função para remover pontuações\n",
    "    \"\"\"\n",
    "    print('  Remove Punction')\n",
    "\n",
    "    puncts = [\"\\\\\" +s for s in string.punctuation]\n",
    "    puncts = '|'.join(puncts)\n",
    "    data = data.replace(puncts,' ',regex=True)    \n",
    "    return data\n",
    "\n",
    "def remove_special_caract(array_data):\n",
    "    \"\"\"\n",
    "    Função para substituir caracteres especiais\n",
    "    \"\"\"\n",
    "    print('  Remove Special Caract')\n",
    "    data = [normalize('NFKD', data).encode('ASCII', 'ignore').decode('ASCII') for data in array_data]\n",
    "    return data\n",
    "\n",
    "def remove_patter_terms(data):\n",
    "    \"\"\"\n",
    "    Função para remover orações que há em todos os discursos, como \"senhor presidente\", \"senhora(s) deputadas\"\n",
    "    \"\"\"\n",
    "    pattern = \"^(.+?)-\\sSr|(((O?\\s?SR\\.?\\s+?)|(A?\\s?SRA\\.?\\s+?))(\\s+DEPUTADO|\\s+DEPUTADA|\\s+PRESIDENTE|\\s+PRESIDENTA)?)|\\\n",
    "              (SR\\.?\\s+?)|(SRA\\.?\\s+?)|srs|sras|(presidente|deputado(s)|deputada(s))\"\n",
    "    \n",
    "    data = re.sub(pattern, '',data, flags = re.IGNORECASE)\n",
    "    \n",
    "    return data\n",
    "\n",
    "def clean_text(data):\n",
    "    \"\"\"\n",
    "    Função para fazer pre-processamento dos textos\n",
    "    \"\"\"\n",
    "    print('Cleaning text...')\n",
    "    \n",
    "    data =  data.apply(remove_patter_terms)\n",
    "    \n",
    "    data = remove_punct(data)\n",
    "    data = data.str.lower()\n",
    "    \n",
    "    list_stop_words = remove_special_caract(stopwords.words('portuguese'))\n",
    "    list_stop_words.extend(['ser','ja','ha','exa','ainda','ate','todo','todos','toda','todas','devem'])\n",
    "    list_stop_words = set(list_stop_words)\n",
    "    data = remove_stop_words(data, list_stop_words)\n",
    "    \n",
    "    data = data.replace('\\s+',' ',regex=True)\n",
    "        \n",
    "    return data"
   ]
  },
  {
   "cell_type": "code",
   "execution_count": 7,
   "metadata": {
    "scrolled": true
   },
   "outputs": [],
   "source": [
    "directory = \"../data/csvs/\"\n",
    "discursos = pd.read_csv(directory+'discursos_plen.csv')"
   ]
  },
  {
   "cell_type": "code",
   "execution_count": 8,
   "metadata": {},
   "outputs": [
    {
     "name": "stdout",
     "output_type": "stream",
     "text": [
      "  Remove Special Caract\n"
     ]
    }
   ],
   "source": [
    "# retirando caracteres especiais das stopwords, porque o texto está sem!!\n",
    "list_stop_words = remove_special_caract(stopwords.words('portuguese'))\n",
    "\n",
    "# inserindo mais palavras pra ser removidas\n",
    "list_stop_words.extend(['ser','ja','ha','exa','ainda','ate','todo','todos','toda','todas','devem'])"
   ]
  },
  {
   "cell_type": "code",
   "execution_count": 9,
   "metadata": {},
   "outputs": [
    {
     "name": "stdout",
     "output_type": "stream",
     "text": [
      "Cleaning text...\n",
      "  Remove Punction\n",
      "  Remove Special Caract\n",
      "  Remove Stop Words\n"
     ]
    }
   ],
   "source": [
    "discursos.loc[:,'CLEAN_CONTENT'] = clean_text(discursos.loc[:,'CLEAN_CONTENT'])\n"
   ]
  },
  {
   "cell_type": "code",
   "execution_count": 10,
   "metadata": {},
   "outputs": [],
   "source": [
    "## salvando dados limpos em uma nova base\n",
    "discursos.to_csv(directory+'discursos_plen_limpo.csv', index = False)"
   ]
  }
 ],
 "metadata": {
  "kernelspec": {
   "display_name": "Python 3",
   "language": "python",
   "name": "python3"
  },
  "language_info": {
   "codemirror_mode": {
    "name": "ipython",
    "version": 3
   },
   "file_extension": ".py",
   "mimetype": "text/x-python",
   "name": "python",
   "nbconvert_exporter": "python",
   "pygments_lexer": "ipython3",
   "version": "3.7.4"
  }
 },
 "nbformat": 4,
 "nbformat_minor": 2
}
