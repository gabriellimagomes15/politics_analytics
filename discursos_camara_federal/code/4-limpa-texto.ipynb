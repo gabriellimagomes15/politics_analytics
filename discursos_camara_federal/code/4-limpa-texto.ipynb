{
 "cells": [
  {
   "cell_type": "markdown",
   "metadata": {},
   "source": [
    "# Script para limpar os discursos da base:\n",
    "- remover stopwords\n",
    "- remover pontuação\n",
    "- remover caracteres especiais\n",
    "- remover palavras/termos muito comuns, por exemplo, \"Sr. Presidente\""
   ]
  },
  {
   "cell_type": "code",
   "execution_count": 1,
   "metadata": {},
   "outputs": [
    {
     "name": "stderr",
     "output_type": "stream",
     "text": [
      "[nltk_data] Downloading package stopwords to /home/zerum/nltk_data...\n",
      "[nltk_data]   Package stopwords is already up-to-date!\n"
     ]
    }
   ],
   "source": [
    "import os\n",
    "import pandas as pd\n",
    "import re\n",
    "\n",
    "import nltk\n",
    "import string\n",
    "nltk.download('stopwords')\n",
    "from nltk.corpus import stopwords\n",
    "from unicodedata import normalize\n"
   ]
  },
  {
   "cell_type": "code",
   "execution_count": 41,
   "metadata": {},
   "outputs": [],
   "source": [
    "\n",
    "def remove_stop_words(data, list_stop_words = None):\n",
    "    \"\"\"\n",
    "    Função para remover stopwords em português\n",
    "    \"\"\"\n",
    "    print('  Remove Stop Words')\n",
    "\n",
    "    #list_stop_words = set(stopwords.words('portuguese'))\n",
    "    if list_stop_words != None:\n",
    "        output = []\n",
    "        for sentence in data:\n",
    "            temp_list = []\n",
    "            for word in sentence.split():\n",
    "                if word.lower() not in list_stop_words:\n",
    "                    temp_list.append(word)\n",
    "            output.append(' '.join(temp_list))\n",
    "\n",
    "        data = pd.Series(output)    \n",
    "    \n",
    "    return data\n",
    "\n",
    "def remove_punct(data):\n",
    "    \"\"\"\n",
    "    Função para remover pontuações\n",
    "    \"\"\"\n",
    "    print('  Remove Punction')\n",
    "\n",
    "    puncts = [\"\\\\\" +s for s in string.punctuation]\n",
    "    puncts = '|'.join(puncts)\n",
    "    data = data.replace(puncts,' ',regex=True)    \n",
    "    return data\n",
    "\n",
    "def remove_special_caract(array_data):\n",
    "    \"\"\"\n",
    "    Função para substituir caracteres especiais\n",
    "    \"\"\"\n",
    "    print('  Remove Special Caract')\n",
    "    data = [normalize('NFKD', data).encode('ASCII', 'ignore').decode('ASCII') for data in array_data]\n",
    "    return data\n",
    "\n",
    "def remove_patter_terms(data):\n",
    "    \"\"\"\n",
    "    Função para remover orações que há em todos os discursos, como \"senhor presidente\", \"senhora(s) deputadas\"\n",
    "    \"\"\"\n",
    "    #print(data)\n",
    "    pattern = \"^(.+?)-\\sSr|(((O?\\s?SR\\.?\\s+?)|(A?\\s?SRA\\.?\\s+?))(\\s+DEPUTADO|\\s+DEPUTADA|\\s+PRESIDENTE|\\s+PRESIDENTA)?)|\\\n",
    "              (SR\\.?\\s+?)|(SRA\\.?\\s+?)|srs|sras|(presidente|deputado(s)|deputada(s))\"\n",
    "    \n",
    "    data = re.sub(pattern, '',data, flags = re.IGNORECASE)\n",
    "    \n",
    "    return data\n",
    "\n",
    "def clean_text(data, list_stop_words):\n",
    "    \"\"\"\n",
    "    Função para fazer pre-processamento dos textos\n",
    "    \"\"\"\n",
    "    print('Cleaning text...')\n",
    "    data.isnull().sum()\n",
    "    data =  data.apply(remove_patter_terms)\n",
    "    \n",
    "    data = remove_punct(data)\n",
    "    data = data.str.lower()\n",
    "    \n",
    "    \n",
    "    list_stop_words = set(list_stop_words)\n",
    "    data = remove_stop_words(data, list_stop_words)\n",
    "    \n",
    "    #data = data.replace('\\s+',' ',regex=True)\n",
    "    \n",
    "    return data"
   ]
  },
  {
   "cell_type": "code",
   "execution_count": 46,
   "metadata": {
    "scrolled": true
   },
   "outputs": [
    {
     "data": {
      "text/plain": [
       "(113143, 13)"
      ]
     },
     "execution_count": 46,
     "metadata": {},
     "output_type": "execute_result"
    }
   ],
   "source": [
    "directory = '/disco01/gabriel/'#\"../data/csvs/\"\n",
    "#discursos = pd.read_csv(directory+'discursos_plen.csv')\n",
    "discursos = pd.read_json(directory+'discursos_plen.json')\n",
    "discursos.shape"
   ]
  },
  {
   "cell_type": "code",
   "execution_count": 28,
   "metadata": {},
   "outputs": [
    {
     "data": {
      "text/plain": [
       "FILE                0\n",
       "ORIGINAL_CONTENT    0\n",
       "CLEAN_CONTENT       0\n",
       "SESSION_TYPE        0\n",
       "SESSION_DATE        0\n",
       "MONTH               0\n",
       "YEAR                0\n",
       "SPEAKER_COUNT       0\n",
       "Orador              0\n",
       "Hora                0\n",
       "ORADOR_CLEAN        0\n",
       "PARTIDO             0\n",
       "UF_PARTIDO          0\n",
       "dtype: int64"
      ]
     },
     "execution_count": 28,
     "metadata": {},
     "output_type": "execute_result"
    }
   ],
   "source": [
    "discursos.isnull().sum()"
   ]
  },
  {
   "cell_type": "code",
   "execution_count": 29,
   "metadata": {},
   "outputs": [
    {
     "data": {
      "text/html": [
       "<div>\n",
       "<style scoped>\n",
       "    .dataframe tbody tr th:only-of-type {\n",
       "        vertical-align: middle;\n",
       "    }\n",
       "\n",
       "    .dataframe tbody tr th {\n",
       "        vertical-align: top;\n",
       "    }\n",
       "\n",
       "    .dataframe thead th {\n",
       "        text-align: right;\n",
       "    }\n",
       "</style>\n",
       "<table border=\"1\" class=\"dataframe\">\n",
       "  <thead>\n",
       "    <tr style=\"text-align: right;\">\n",
       "      <th></th>\n",
       "      <th>FILE</th>\n",
       "      <th>ORIGINAL_CONTENT</th>\n",
       "      <th>CLEAN_CONTENT</th>\n",
       "      <th>SESSION_TYPE</th>\n",
       "      <th>SESSION_DATE</th>\n",
       "      <th>MONTH</th>\n",
       "      <th>YEAR</th>\n",
       "      <th>SPEAKER_COUNT</th>\n",
       "      <th>Orador</th>\n",
       "      <th>Hora</th>\n",
       "      <th>ORADOR_CLEAN</th>\n",
       "      <th>PARTIDO</th>\n",
       "      <th>UF_PARTIDO</th>\n",
       "    </tr>\n",
       "  </thead>\n",
       "  <tbody>\n",
       "    <tr>\n",
       "      <td>0</td>\n",
       "      <td>15149-02042001-14h52-PEQUENO EXPEDIENTE-037-3-...</td>\n",
       "      <td>O SR. PAULO PAIM (PT-RS. Sem revisão do orador...</td>\n",
       "      <td>O SR. PAULO PAIM (PT-RS. Sem revisao do orador...</td>\n",
       "      <td>PEQUENO EXPEDIENTE</td>\n",
       "      <td>2001-04-02</td>\n",
       "      <td>4</td>\n",
       "      <td>2001</td>\n",
       "      <td>1</td>\n",
       "      <td>PAULO PAIM, PT-RS</td>\n",
       "      <td>14h52</td>\n",
       "      <td>PAULO PAIM</td>\n",
       "      <td>PT</td>\n",
       "      <td>RS</td>\n",
       "    </tr>\n",
       "    <tr>\n",
       "      <td>1</td>\n",
       "      <td>5628-03102001-17h04-ORDEM DO DIA-190-3-51-O.txt</td>\n",
       "      <td>O SR. GERSON PERES  (PPB-PA. Pela ordem. Sem r...</td>\n",
       "      <td>O SR. GERSON PERES  (PPB-PA. Pela ordem. Sem r...</td>\n",
       "      <td>ORDEM DO DIA</td>\n",
       "      <td>2001-10-03</td>\n",
       "      <td>10</td>\n",
       "      <td>2001</td>\n",
       "      <td>1</td>\n",
       "      <td>GERSON PERES, PPB-PA</td>\n",
       "      <td>17h04</td>\n",
       "      <td>GERSON PERES</td>\n",
       "      <td>PPB</td>\n",
       "      <td>PA</td>\n",
       "    </tr>\n",
       "    <tr>\n",
       "      <td>2</td>\n",
       "      <td>6562-19092001-16h52-BREVES COMUNICACOES-175-3-...</td>\n",
       "      <td>O SR. JOSÉ GENOÍNO (PT-SP. Sem revisão do orad...</td>\n",
       "      <td>O SR. JOSE GENOINO (PT-SP. Sem revisao do orad...</td>\n",
       "      <td>BREVES COMUNICACOES</td>\n",
       "      <td>2001-09-19</td>\n",
       "      <td>9</td>\n",
       "      <td>2001</td>\n",
       "      <td>1</td>\n",
       "      <td>JOSÉ GENOÍNO, PT-SP</td>\n",
       "      <td>16h52</td>\n",
       "      <td>JOSÉ GENOÍNO</td>\n",
       "      <td>PT</td>\n",
       "      <td>SP</td>\n",
       "    </tr>\n",
       "    <tr>\n",
       "      <td>3</td>\n",
       "      <td>344-18122001-14h00-PEQUENO EXPEDIENTE-001-5-51...</td>\n",
       "      <td>O SR. LINCOLN PORTELA (Bloco/PSL-MG. Pronuncia...</td>\n",
       "      <td>O SR. LINCOLN PORTELA (Bloco/PSL-MG. Pronuncia...</td>\n",
       "      <td>PEQUENO EXPEDIENTE</td>\n",
       "      <td>2001-12-18</td>\n",
       "      <td>12</td>\n",
       "      <td>2001</td>\n",
       "      <td>1</td>\n",
       "      <td>LINCOLN PORTELA, PSL-MG</td>\n",
       "      <td>14h00</td>\n",
       "      <td>LINCOLN PORTELA</td>\n",
       "      <td>PSL</td>\n",
       "      <td>MG</td>\n",
       "    </tr>\n",
       "    <tr>\n",
       "      <td>4</td>\n",
       "      <td>4945-16102001-15h06-GRANDE EXPEDIENTE-203-3-51...</td>\n",
       "      <td>O SR. MARÇAL FILHO (PMDB-MS. Pela ordem. Sem r...</td>\n",
       "      <td>O SR. MARCAL FILHO (PMDB-MS. Pela ordem. Sem r...</td>\n",
       "      <td>GRANDE EXPEDIENTE</td>\n",
       "      <td>2001-10-16</td>\n",
       "      <td>10</td>\n",
       "      <td>2001</td>\n",
       "      <td>1</td>\n",
       "      <td>MARÇAL FILHO, PMDB-MS</td>\n",
       "      <td>15h06</td>\n",
       "      <td>MARÇAL FILHO</td>\n",
       "      <td>PMDB</td>\n",
       "      <td>MS</td>\n",
       "    </tr>\n",
       "  </tbody>\n",
       "</table>\n",
       "</div>"
      ],
      "text/plain": [
       "                                                FILE  \\\n",
       "0  15149-02042001-14h52-PEQUENO EXPEDIENTE-037-3-...   \n",
       "1    5628-03102001-17h04-ORDEM DO DIA-190-3-51-O.txt   \n",
       "2  6562-19092001-16h52-BREVES COMUNICACOES-175-3-...   \n",
       "3  344-18122001-14h00-PEQUENO EXPEDIENTE-001-5-51...   \n",
       "4  4945-16102001-15h06-GRANDE EXPEDIENTE-203-3-51...   \n",
       "\n",
       "                                    ORIGINAL_CONTENT  \\\n",
       "0  O SR. PAULO PAIM (PT-RS. Sem revisão do orador...   \n",
       "1  O SR. GERSON PERES  (PPB-PA. Pela ordem. Sem r...   \n",
       "2  O SR. JOSÉ GENOÍNO (PT-SP. Sem revisão do orad...   \n",
       "3  O SR. LINCOLN PORTELA (Bloco/PSL-MG. Pronuncia...   \n",
       "4  O SR. MARÇAL FILHO (PMDB-MS. Pela ordem. Sem r...   \n",
       "\n",
       "                                       CLEAN_CONTENT         SESSION_TYPE  \\\n",
       "0  O SR. PAULO PAIM (PT-RS. Sem revisao do orador...   PEQUENO EXPEDIENTE   \n",
       "1  O SR. GERSON PERES  (PPB-PA. Pela ordem. Sem r...         ORDEM DO DIA   \n",
       "2  O SR. JOSE GENOINO (PT-SP. Sem revisao do orad...  BREVES COMUNICACOES   \n",
       "3  O SR. LINCOLN PORTELA (Bloco/PSL-MG. Pronuncia...   PEQUENO EXPEDIENTE   \n",
       "4  O SR. MARCAL FILHO (PMDB-MS. Pela ordem. Sem r...    GRANDE EXPEDIENTE   \n",
       "\n",
       "  SESSION_DATE  MONTH  YEAR  SPEAKER_COUNT                   Orador   Hora  \\\n",
       "0   2001-04-02      4  2001              1        PAULO PAIM, PT-RS  14h52   \n",
       "1   2001-10-03     10  2001              1     GERSON PERES, PPB-PA  17h04   \n",
       "2   2001-09-19      9  2001              1      JOSÉ GENOÍNO, PT-SP  16h52   \n",
       "3   2001-12-18     12  2001              1  LINCOLN PORTELA, PSL-MG  14h00   \n",
       "4   2001-10-16     10  2001              1    MARÇAL FILHO, PMDB-MS  15h06   \n",
       "\n",
       "      ORADOR_CLEAN PARTIDO UF_PARTIDO  \n",
       "0       PAULO PAIM      PT         RS  \n",
       "1     GERSON PERES     PPB         PA  \n",
       "2     JOSÉ GENOÍNO      PT         SP  \n",
       "3  LINCOLN PORTELA     PSL         MG  \n",
       "4     MARÇAL FILHO    PMDB         MS  "
      ]
     },
     "execution_count": 29,
     "metadata": {},
     "output_type": "execute_result"
    }
   ],
   "source": [
    "discursos.head()"
   ]
  },
  {
   "cell_type": "code",
   "execution_count": null,
   "metadata": {
    "scrolled": true
   },
   "outputs": [],
   "source": [
    "discursos = discursos.dropna()\n",
    "discursos.index = [i for i in range(0,len(discursos))] #loc[discursos.CLEAN_CONTENT.isna(),:]"
   ]
  },
  {
   "cell_type": "code",
   "execution_count": null,
   "metadata": {},
   "outputs": [],
   "source": [
    "discursos.isnull().sum()"
   ]
  },
  {
   "cell_type": "code",
   "execution_count": 47,
   "metadata": {},
   "outputs": [
    {
     "name": "stdout",
     "output_type": "stream",
     "text": [
      "113143\n",
      "<class 'pandas.core.frame.DataFrame'>\n",
      "Int64Index: 113143 entries, 0 to 113142\n",
      "Data columns (total 13 columns):\n",
      "FILE                113143 non-null object\n",
      "ORIGINAL_CONTENT    113143 non-null object\n",
      "CLEAN_CONTENT       113143 non-null object\n",
      "SESSION_TYPE        113143 non-null object\n",
      "SESSION_DATE        113143 non-null object\n",
      "MONTH               113143 non-null int64\n",
      "YEAR                113143 non-null int64\n",
      "SPEAKER_COUNT       113143 non-null int64\n",
      "Orador              113143 non-null object\n",
      "Hora                113143 non-null object\n",
      "ORADOR_CLEAN        113143 non-null object\n",
      "PARTIDO             113143 non-null object\n",
      "UF_PARTIDO          113143 non-null object\n",
      "dtypes: int64(3), object(10)\n",
      "memory usage: 12.1+ MB\n"
     ]
    }
   ],
   "source": [
    "print(len(discursos))\n",
    "discursos.info()"
   ]
  },
  {
   "cell_type": "code",
   "execution_count": null,
   "metadata": {
    "scrolled": true
   },
   "outputs": [],
   "source": [
    "#discursos = discursos.reindex([i for i in range(0,len(discursos))])#.isnull().sum()"
   ]
  },
  {
   "cell_type": "code",
   "execution_count": null,
   "metadata": {},
   "outputs": [],
   "source": [
    "#discursos.isnull().sum()"
   ]
  },
  {
   "cell_type": "code",
   "execution_count": null,
   "metadata": {},
   "outputs": [],
   "source": [
    "#discursos.head()\n"
   ]
  },
  {
   "cell_type": "code",
   "execution_count": 48,
   "metadata": {},
   "outputs": [
    {
     "name": "stdout",
     "output_type": "stream",
     "text": [
      "  Remove Special Caract\n",
      "Cleaning text...\n",
      "  Remove Punction\n",
      "  Remove Stop Words\n",
      "Finalizado...\n"
     ]
    }
   ],
   "source": [
    "# retirando caracteres especiais das stopwords, porque o texto está sem!!\n",
    "list_stop_words = remove_special_caract(stopwords.words('portuguese'))\n",
    "\n",
    "# inserindo mais palavras pra ser removidas\n",
    "list_stop_words.extend(['ser','ja','ha','exa','ainda','ate','todo','todos','toda','todas','devem',\n",
    "                       'casa','nesta','desta', 'quero'])\n",
    "\n",
    "\n",
    "discursos.loc[:,'CLEAN_CONTENT'] = clean_text(discursos.loc[:,'CLEAN_CONTENT'],list_stop_words)\n",
    "#discursos.iloc[57646:57647,:]\n",
    "print('Finalizado...')\n"
   ]
  },
  {
   "cell_type": "code",
   "execution_count": 43,
   "metadata": {},
   "outputs": [
    {
     "name": "stdout",
     "output_type": "stream",
     "text": [
      "FILE             0\n",
      "CLEAN_CONTENT    0\n",
      "SESSION_TYPE     0\n",
      "SESSION_DATE     0\n",
      "MONTH            0\n",
      "YEAR             0\n",
      "SPEAKER_COUNT    0\n",
      "Hora             0\n",
      "ORADOR_CLEAN     0\n",
      "PARTIDO          0\n",
      "UF_PARTIDO       0\n",
      "dtype: int64\n"
     ]
    }
   ],
   "source": [
    "print(discursos.isna().sum())"
   ]
  },
  {
   "cell_type": "code",
   "execution_count": null,
   "metadata": {
    "scrolled": true
   },
   "outputs": [],
   "source": [
    "print('Qtd de Registros por ANO:\\n{}\\n\\nQtd Total de registros:{} '.format(discursos.YEAR.value_counts(),len(discursos)))"
   ]
  },
  {
   "cell_type": "code",
   "execution_count": 49,
   "metadata": {},
   "outputs": [
    {
     "data": {
      "text/html": [
       "<div>\n",
       "<style scoped>\n",
       "    .dataframe tbody tr th:only-of-type {\n",
       "        vertical-align: middle;\n",
       "    }\n",
       "\n",
       "    .dataframe tbody tr th {\n",
       "        vertical-align: top;\n",
       "    }\n",
       "\n",
       "    .dataframe thead th {\n",
       "        text-align: right;\n",
       "    }\n",
       "</style>\n",
       "<table border=\"1\" class=\"dataframe\">\n",
       "  <thead>\n",
       "    <tr style=\"text-align: right;\">\n",
       "      <th></th>\n",
       "      <th>FILE</th>\n",
       "      <th>ORIGINAL_CONTENT</th>\n",
       "      <th>CLEAN_CONTENT</th>\n",
       "      <th>SESSION_TYPE</th>\n",
       "      <th>SESSION_DATE</th>\n",
       "      <th>MONTH</th>\n",
       "      <th>YEAR</th>\n",
       "      <th>SPEAKER_COUNT</th>\n",
       "      <th>Orador</th>\n",
       "      <th>Hora</th>\n",
       "      <th>ORADOR_CLEAN</th>\n",
       "      <th>PARTIDO</th>\n",
       "      <th>UF_PARTIDO</th>\n",
       "    </tr>\n",
       "  </thead>\n",
       "  <tbody>\n",
       "    <tr>\n",
       "      <td>0</td>\n",
       "      <td>15149-02042001-14h52-PEQUENO EXPEDIENTE-037-3-...</td>\n",
       "      <td>O SR. PAULO PAIM (PT-RS. Sem revisão do orador...</td>\n",
       "      <td>ocupo tribuna registrar protocolando junto com...</td>\n",
       "      <td>PEQUENO EXPEDIENTE</td>\n",
       "      <td>2001-04-02</td>\n",
       "      <td>4</td>\n",
       "      <td>2001</td>\n",
       "      <td>1</td>\n",
       "      <td>PAULO PAIM, PT-RS</td>\n",
       "      <td>14h52</td>\n",
       "      <td>PAULO PAIM</td>\n",
       "      <td>PT</td>\n",
       "      <td>RS</td>\n",
       "    </tr>\n",
       "    <tr>\n",
       "      <td>1</td>\n",
       "      <td>5628-03102001-17h04-ORDEM DO DIA-190-3-51-O.txt</td>\n",
       "      <td>O SR. GERSON PERES  (PPB-PA. Pela ordem. Sem r...</td>\n",
       "      <td>objecao desde cidadao apresente provas incrimi...</td>\n",
       "      <td>ORDEM DO DIA</td>\n",
       "      <td>2001-10-03</td>\n",
       "      <td>10</td>\n",
       "      <td>2001</td>\n",
       "      <td>1</td>\n",
       "      <td>GERSON PERES, PPB-PA</td>\n",
       "      <td>17h04</td>\n",
       "      <td>GERSON PERES</td>\n",
       "      <td>PPB</td>\n",
       "      <td>PA</td>\n",
       "    </tr>\n",
       "    <tr>\n",
       "      <td>2</td>\n",
       "      <td>6562-19092001-16h52-BREVES COMUNICACOES-175-3-...</td>\n",
       "      <td>O SR. JOSÉ GENOÍNO (PT-SP. Sem revisão do orad...</td>\n",
       "      <td>continuamos defendendo posicao governo forcas ...</td>\n",
       "      <td>BREVES COMUNICACOES</td>\n",
       "      <td>2001-09-19</td>\n",
       "      <td>9</td>\n",
       "      <td>2001</td>\n",
       "      <td>1</td>\n",
       "      <td>JOSÉ GENOÍNO, PT-SP</td>\n",
       "      <td>16h52</td>\n",
       "      <td>JOSÉ GENOÍNO</td>\n",
       "      <td>PT</td>\n",
       "      <td>SP</td>\n",
       "    </tr>\n",
       "    <tr>\n",
       "      <td>3</td>\n",
       "      <td>344-18122001-14h00-PEQUENO EXPEDIENTE-001-5-51...</td>\n",
       "      <td>O SR. LINCOLN PORTELA (Bloco/PSL-MG. Pronuncia...</td>\n",
       "      <td>poderia deixar lamentar desmando governo feder...</td>\n",
       "      <td>PEQUENO EXPEDIENTE</td>\n",
       "      <td>2001-12-18</td>\n",
       "      <td>12</td>\n",
       "      <td>2001</td>\n",
       "      <td>1</td>\n",
       "      <td>LINCOLN PORTELA, PSL-MG</td>\n",
       "      <td>14h00</td>\n",
       "      <td>LINCOLN PORTELA</td>\n",
       "      <td>PSL</td>\n",
       "      <td>MG</td>\n",
       "    </tr>\n",
       "    <tr>\n",
       "      <td>4</td>\n",
       "      <td>4945-16102001-15h06-GRANDE EXPEDIENTE-203-3-51...</td>\n",
       "      <td>O SR. MARÇAL FILHO (PMDB-MS. Pela ordem. Sem r...</td>\n",
       "      <td>parlamentares vez louvo iniciativa governo fed...</td>\n",
       "      <td>GRANDE EXPEDIENTE</td>\n",
       "      <td>2001-10-16</td>\n",
       "      <td>10</td>\n",
       "      <td>2001</td>\n",
       "      <td>1</td>\n",
       "      <td>MARÇAL FILHO, PMDB-MS</td>\n",
       "      <td>15h06</td>\n",
       "      <td>MARÇAL FILHO</td>\n",
       "      <td>PMDB</td>\n",
       "      <td>MS</td>\n",
       "    </tr>\n",
       "  </tbody>\n",
       "</table>\n",
       "</div>"
      ],
      "text/plain": [
       "                                                FILE  \\\n",
       "0  15149-02042001-14h52-PEQUENO EXPEDIENTE-037-3-...   \n",
       "1    5628-03102001-17h04-ORDEM DO DIA-190-3-51-O.txt   \n",
       "2  6562-19092001-16h52-BREVES COMUNICACOES-175-3-...   \n",
       "3  344-18122001-14h00-PEQUENO EXPEDIENTE-001-5-51...   \n",
       "4  4945-16102001-15h06-GRANDE EXPEDIENTE-203-3-51...   \n",
       "\n",
       "                                    ORIGINAL_CONTENT  \\\n",
       "0  O SR. PAULO PAIM (PT-RS. Sem revisão do orador...   \n",
       "1  O SR. GERSON PERES  (PPB-PA. Pela ordem. Sem r...   \n",
       "2  O SR. JOSÉ GENOÍNO (PT-SP. Sem revisão do orad...   \n",
       "3  O SR. LINCOLN PORTELA (Bloco/PSL-MG. Pronuncia...   \n",
       "4  O SR. MARÇAL FILHO (PMDB-MS. Pela ordem. Sem r...   \n",
       "\n",
       "                                       CLEAN_CONTENT         SESSION_TYPE  \\\n",
       "0  ocupo tribuna registrar protocolando junto com...   PEQUENO EXPEDIENTE   \n",
       "1  objecao desde cidadao apresente provas incrimi...         ORDEM DO DIA   \n",
       "2  continuamos defendendo posicao governo forcas ...  BREVES COMUNICACOES   \n",
       "3  poderia deixar lamentar desmando governo feder...   PEQUENO EXPEDIENTE   \n",
       "4  parlamentares vez louvo iniciativa governo fed...    GRANDE EXPEDIENTE   \n",
       "\n",
       "  SESSION_DATE  MONTH  YEAR  SPEAKER_COUNT                   Orador   Hora  \\\n",
       "0   2001-04-02      4  2001              1        PAULO PAIM, PT-RS  14h52   \n",
       "1   2001-10-03     10  2001              1     GERSON PERES, PPB-PA  17h04   \n",
       "2   2001-09-19      9  2001              1      JOSÉ GENOÍNO, PT-SP  16h52   \n",
       "3   2001-12-18     12  2001              1  LINCOLN PORTELA, PSL-MG  14h00   \n",
       "4   2001-10-16     10  2001              1    MARÇAL FILHO, PMDB-MS  15h06   \n",
       "\n",
       "      ORADOR_CLEAN PARTIDO UF_PARTIDO  \n",
       "0       PAULO PAIM      PT         RS  \n",
       "1     GERSON PERES     PPB         PA  \n",
       "2     JOSÉ GENOÍNO      PT         SP  \n",
       "3  LINCOLN PORTELA     PSL         MG  \n",
       "4     MARÇAL FILHO    PMDB         MS  "
      ]
     },
     "execution_count": 49,
     "metadata": {},
     "output_type": "execute_result"
    }
   ],
   "source": [
    "discursos.head()"
   ]
  },
  {
   "cell_type": "code",
   "execution_count": 50,
   "metadata": {},
   "outputs": [],
   "source": [
    "discursos_final = discursos.drop(columns = ['ORIGINAL_CONTENT','Orador'])"
   ]
  },
  {
   "cell_type": "code",
   "execution_count": 60,
   "metadata": {},
   "outputs": [
    {
     "data": {
      "text/plain": [
       "Index(['FILE', 'CLEAN_CONTENT', 'SESSION_TYPE', 'SESSION_DATE', 'MONTH',\n",
       "       'YEAR', 'SPEAKER_COUNT', 'HORA', 'ORADOR_CLEAN', 'PARTIDO',\n",
       "       'UF_PARTIDO'],\n",
       "      dtype='object')"
      ]
     },
     "execution_count": 60,
     "metadata": {},
     "output_type": "execute_result"
    }
   ],
   "source": [
    "discursos_final.columns = discursos_final.columns.to_series().apply(lambda x: x.upper())\n",
    "discursos_final.columns"
   ]
  },
  {
   "cell_type": "code",
   "execution_count": 61,
   "metadata": {},
   "outputs": [],
   "source": [
    "## salvando dados limpos em uma nova base\n",
    "#discursos.to_csv(directory+'discursos_plen_limpo.csv', index = False)\n",
    "discursos_final.to_json(directory+'discursos_plen_limpo.json')"
   ]
  },
  {
   "cell_type": "code",
   "execution_count": 62,
   "metadata": {},
   "outputs": [
    {
     "name": "stdout",
     "output_type": "stream",
     "text": [
      "-96 -459\n"
     ]
    }
   ],
   "source": [
    "print(140901 - 140997,\n",
    "      138562 - 139021)\n"
   ]
  }
 ],
 "metadata": {
  "kernelspec": {
   "display_name": "Python 3",
   "language": "python",
   "name": "python3"
  },
  "language_info": {
   "codemirror_mode": {
    "name": "ipython",
    "version": 3
   },
   "file_extension": ".py",
   "mimetype": "text/x-python",
   "name": "python",
   "nbconvert_exporter": "python",
   "pygments_lexer": "ipython3",
   "version": "3.6.8"
  }
 },
 "nbformat": 4,
 "nbformat_minor": 2
}
